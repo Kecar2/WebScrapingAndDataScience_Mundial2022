{
 "cells": [
  {
   "cell_type": "code",
   "execution_count": 13,
   "id": "e3e1d918",
   "metadata": {},
   "outputs": [],
   "source": [
    "from bs4 import BeautifulSoup\n",
    "import requests\n",
    "import pandas as pd"
   ]
  },
  {
   "cell_type": "code",
   "execution_count": 14,
   "id": "295c8e65",
   "metadata": {},
   "outputs": [],
   "source": [
    "web = 'https://en.wikipedia.org/wiki/2014_FIFA_World_Cup'\n",
    "response = requests.get(web)\n",
    "content = response.text\n",
    "soup = BeautifulSoup(content, 'lxml')\n",
    "\n",
    "matches = soup.find_all('div', class_='footballbox')\n",
    "\n",
    "home = []\n",
    "score = []\n",
    "away = []\n",
    "\n",
    "for match in matches:\n",
    "    home.append(match.find('th', class_='fhome').get_text())\n",
    "    score.append(match.find('th', class_='fscore').get_text())\n",
    "    away.append(match.find('th', class_='faway').get_text())"
   ]
  },
  {
   "cell_type": "code",
   "execution_count": 16,
   "id": "ec79c350",
   "metadata": {},
   "outputs": [],
   "source": [
    "dict_football = {'home': home, 'score': score, 'away': away}"
   ]
  },
  {
   "cell_type": "code",
   "execution_count": 18,
   "id": "f69c5672",
   "metadata": {},
   "outputs": [],
   "source": [
    "df_football = pd.DataFrame(dict_football)\n",
    "df_football['year'] = '2014'"
   ]
  },
  {
   "cell_type": "code",
   "execution_count": 19,
   "id": "c7a95147",
   "metadata": {},
   "outputs": [
    {
     "name": "stdout",
     "output_type": "stream",
     "text": [
      "            home         score          away  year\n",
      "0        Brazil            3–1       Croatia  2014\n",
      "1        Mexico            1–0      Cameroon  2014\n",
      "2        Brazil            0–0        Mexico  2014\n",
      "3      Cameroon            0–4       Croatia  2014\n",
      "4      Cameroon            1–4        Brazil  2014\n",
      "..           ...           ...           ...   ...\n",
      "59  Netherlands   0–0 (a.e.t.)    Costa Rica  2014\n",
      "60       Brazil            1–7       Germany  2014\n",
      "61  Netherlands   0–0 (a.e.t.)     Argentina  2014\n",
      "62       Brazil            0–3   Netherlands  2014\n",
      "63      Germany   1–0 (a.e.t.)     Argentina  2014\n",
      "\n",
      "[64 rows x 4 columns]\n"
     ]
    }
   ],
   "source": [
    "print(df_football)"
   ]
  },
  {
   "cell_type": "code",
   "execution_count": 24,
   "id": "a1d4d8a9",
   "metadata": {},
   "outputs": [],
   "source": [
    "years = [1930, 1934, 1938, 1950, 1954, 1958, 1962, 1966, 1970, 1974, 1978, 1982, 1986, 1990, 1994, 2002, 2006, 2010, 2014, 2018]"
   ]
  },
  {
   "cell_type": "code",
   "execution_count": 22,
   "id": "2ca36a97",
   "metadata": {},
   "outputs": [],
   "source": [
    "def get_matches(year):\n",
    "    web = f'https://en.wikipedia.org/wiki/{year}_FIFA_World_Cup'\n",
    "    response = requests.get(web)\n",
    "    content = response.text\n",
    "    soup = BeautifulSoup(content, 'lxml')\n",
    "\n",
    "    matches = soup.find_all('div', class_='footballbox')\n",
    "\n",
    "    home = []\n",
    "    score = []\n",
    "    away = []\n",
    "\n",
    "    for match in matches:\n",
    "        home.append(match.find('th', class_='fhome').get_text())\n",
    "        score.append(match.find('th', class_='fscore').get_text())\n",
    "        away.append(match.find('th', class_='faway').get_text())\n",
    "    \n",
    "    dict_football = {'home': home, 'score': score, 'away': away}\n",
    "    \n",
    "    df_football = pd.DataFrame(dict_football)\n",
    "    df_football['year'] = year\n",
    "    return df_football"
   ]
  },
  {
   "cell_type": "code",
   "execution_count": 23,
   "id": "2c9d1508",
   "metadata": {},
   "outputs": [
    {
     "name": "stdout",
     "output_type": "stream",
     "text": [
      "            home         score           away  year\n",
      "0        Poland            0–2          Italy  1982\n",
      "1  West Germany   3–3 (a.e.t.)         France  1982\n",
      "2        Poland            3–2         France  1982\n",
      "3         Italy            3–1   West Germany  1982\n"
     ]
    }
   ],
   "source": [
    "print(get_matches(1982))"
   ]
  },
  {
   "cell_type": "code",
   "execution_count": 26,
   "id": "92abc657",
   "metadata": {},
   "outputs": [],
   "source": [
    "fifa = [get_matches(year) for year in years]"
   ]
  },
  {
   "cell_type": "code",
   "execution_count": 29,
   "id": "316e42ef",
   "metadata": {},
   "outputs": [],
   "source": [
    "df_fifa = pd.concat(fifa, ignore_index=True)\n",
    "df_fifa.to_csv('fifa_worldcup_historial_data.csv', index=False)"
   ]
  },
  {
   "cell_type": "code",
   "execution_count": 30,
   "id": "6cba7396",
   "metadata": {},
   "outputs": [],
   "source": [
    "df_fixture = get_matches('2022')\n",
    "df_fixture.to_csv('fifa_worldcup_fixture.csv', index=False)"
   ]
  }
 ],
 "metadata": {
  "kernelspec": {
   "display_name": "Python 3 (ipykernel)",
   "language": "python",
   "name": "python3"
  },
  "language_info": {
   "codemirror_mode": {
    "name": "ipython",
    "version": 3
   },
   "file_extension": ".py",
   "mimetype": "text/x-python",
   "name": "python",
   "nbconvert_exporter": "python",
   "pygments_lexer": "ipython3",
   "version": "3.9.12"
  }
 },
 "nbformat": 4,
 "nbformat_minor": 5
}
